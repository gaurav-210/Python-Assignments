{
 "cells": [
  {
   "cell_type": "markdown",
   "metadata": {
    "collapsed": true
   },
   "source": [
    "#                                                   Class 2"
   ]
  },
  {
   "cell_type": "markdown",
   "metadata": {},
   "source": [
    "## Q.1 - Create a numpy array with 10 elements of the shape(10,1) using np.random and find out the mean of the elements using basic numpy functions."
   ]
  },
  {
   "cell_type": "markdown",
   "metadata": {},
   "source": [
    "import numpy as np"
   ]
  },
  {
   "cell_type": "code",
   "execution_count": 3,
   "metadata": {},
   "outputs": [
    {
     "name": "stdout",
     "output_type": "stream",
     "text": [
      "[[0.49604311]\n",
      " [0.70974735]\n",
      " [0.52277726]\n",
      " [0.5260149 ]\n",
      " [0.19427225]\n",
      " [0.71570199]\n",
      " [0.42764727]\n",
      " [0.86310545]\n",
      " [0.99114443]\n",
      " [0.58971468]]\n",
      "Mean of array is:\n",
      "0.6036168699262403\n"
     ]
    }
   ],
   "source": [
    "array = np.random.rand(10,1)\n",
    "print(array)\n",
    "print(\"Mean of array is:\")\n",
    "print(array.mean())"
   ]
  },
  {
   "cell_type": "markdown",
   "metadata": {},
   "source": [
    "## Q.2 - Create a numpy array with 20 elements of the shape(20,1) using np.random find the variance and standard deviation of the elements."
   ]
  },
  {
   "cell_type": "code",
   "execution_count": 4,
   "metadata": {},
   "outputs": [
    {
     "name": "stdout",
     "output_type": "stream",
     "text": [
      "[[0.61196424]\n",
      " [0.99084258]\n",
      " [0.51666833]\n",
      " [0.7123838 ]\n",
      " [0.36902501]\n",
      " [0.4978389 ]\n",
      " [0.99575551]\n",
      " [0.67778624]\n",
      " [0.13616967]\n",
      " [0.40334596]\n",
      " [0.49689189]\n",
      " [0.77874833]\n",
      " [0.1680439 ]\n",
      " [0.51992567]\n",
      " [0.42355863]\n",
      " [0.7287362 ]\n",
      " [0.73601618]\n",
      " [0.46750783]\n",
      " [0.74646306]\n",
      " [0.7620474 ]]\n",
      "mean of array is: 0.5869859664632942\n",
      "standard  deviation is : 0.2254339196791797\n",
      "variance is : 0.05082045214191884\n"
     ]
    }
   ],
   "source": [
    "array = np.random.rand(20,1)\n",
    "print(array)\n",
    "print(\"mean of array is:\",array.mean())\n",
    "print(\"standard  deviation is :\",array.std())\n",
    "print(\"variance is :\",array.var())\n"
   ]
  },
  {
   "cell_type": "markdown",
   "metadata": {},
   "source": [
    "## Q.3 - Create a numpy array A of shape(10,20) and B of shape (20,25) using np.random. Print the matrix which is the matrix multiplication of A and B. The shape of the new matrix should be (10,25). Using basic numpy math functions only find the sum of all the elements of the new matrix."
   ]
  },
  {
   "cell_type": "code",
   "execution_count": 5,
   "metadata": {},
   "outputs": [
    {
     "name": "stdout",
     "output_type": "stream",
     "text": [
      "[[6.3072     8.47348484 3.86113402 7.68491053 4.2814214  6.48342395\n",
      "  6.2818185  6.89155339 5.34494832 5.35739235 4.72458762 5.74713378\n",
      "  6.05377218 6.9696456  5.68338478 7.0832136  5.2239949  5.34991324\n",
      "  5.51103229 4.95255973 5.80315034 5.26209731 5.52353419 5.82538493\n",
      "  7.04113237]\n",
      " [6.49044199 7.67631689 4.42438148 7.03252635 4.32508369 6.48730251\n",
      "  6.10936899 6.17729226 6.18703524 5.36199189 4.27566595 5.77118852\n",
      "  5.67522792 7.27451551 5.64016529 7.29167162 5.76046525 5.0172827\n",
      "  5.93829771 6.1850413  6.01023491 5.23647096 5.43144878 6.43387401\n",
      "  6.22311493]\n",
      " [4.38873984 5.77155568 2.86213824 5.39055204 2.75087211 5.03949483\n",
      "  4.65831501 4.75992479 3.91491263 3.888882   3.09197374 3.83304972\n",
      "  4.2589907  4.44377251 3.7593685  4.9371189  3.29305221 4.1448649\n",
      "  3.65593389 3.89413918 4.41029682 3.51423674 3.266859   4.40889452\n",
      "  4.7480639 ]\n",
      " [6.58705577 6.8795375  3.94380191 6.95908038 3.95211062 5.47686206\n",
      "  5.10543214 6.13143984 5.96485513 5.07063884 3.96089347 4.5894069\n",
      "  5.24474018 5.43875973 5.21165929 7.07379954 5.15254988 5.55202668\n",
      "  4.63820168 4.42100746 5.41111991 4.5876258  4.75128172 5.72519207\n",
      "  6.0197349 ]\n",
      " [4.74335913 7.44754113 3.76889813 5.78899719 3.44302683 5.82223241\n",
      "  5.71768354 5.34425997 4.69982095 5.11634832 3.81332871 5.07583458\n",
      "  5.38672571 6.23747052 4.9678733  5.59259133 5.05692513 4.49601809\n",
      "  4.5418031  4.69656556 5.66955742 3.98188376 4.05281144 4.55675026\n",
      "  5.42620702]\n",
      " [4.53552393 6.07559128 3.38180182 5.62856116 2.65017557 4.57769018\n",
      "  5.19807317 5.02617703 4.32979453 4.2802636  3.11386366 4.27390104\n",
      "  4.33702127 3.99252618 4.22148567 4.60772104 4.11425013 5.00832453\n",
      "  3.54293712 4.70950655 4.84901164 3.90845379 3.96564323 4.59031441\n",
      "  5.11931056]\n",
      " [6.41123613 7.62038866 4.29950827 7.10361406 3.8886347  6.01670463\n",
      "  6.61904072 6.56248036 5.34651473 5.39525592 4.10738703 5.26622031\n",
      "  5.44889539 6.01998363 5.1922118  6.56038671 4.86891219 6.28164421\n",
      "  4.86979509 5.74658063 6.23050125 4.73985209 5.86065192 5.87600405\n",
      "  6.61839734]\n",
      " [4.4704967  5.32649714 3.11372978 4.3563155  2.87585229 4.40527081\n",
      "  3.9011841  4.73861024 3.55656457 3.2183183  2.95982075 3.34577727\n",
      "  3.11035282 5.0429577  3.71033083 4.71045663 3.28408037 4.52708161\n",
      "  3.63053634 3.22127705 3.65351129 3.23462935 3.59245433 4.16918214\n",
      "  4.67170729]\n",
      " [5.53939035 6.58178864 3.63533708 6.0649853  3.74399824 5.56781664\n",
      "  5.39470108 5.51734768 5.12442383 4.93501683 3.47982102 4.85488298\n",
      "  5.12712941 5.72528847 4.89219553 6.18836811 4.54133192 4.49015313\n",
      "  5.00825955 4.42710032 4.85754737 4.30282007 4.82185795 5.19017313\n",
      "  5.96792786]\n",
      " [5.6205201  6.77969057 3.37406415 6.63519878 4.26320035 6.43337194\n",
      "  5.73457593 5.92094591 4.99771603 4.72970216 3.92587476 5.62894314\n",
      "  5.57210804 5.30987249 4.53601782 6.2399734  4.06741811 4.91128631\n",
      "  4.81745481 5.13879372 5.18178292 4.41239825 4.90979921 5.50919291\n",
      "  6.40671722]]\n",
      "shape of new matrix is (10, 25)\n"
     ]
    }
   ],
   "source": [
    "A = np.random.rand(10,20)\n",
    "B = np.random.rand(20,25)\n",
    "c= np.matmul(A,B)\n",
    "print(c)\n",
    "print(\"shape of new matrix is\", c.shape\n",
    ")"
   ]
  },
  {
   "cell_type": "code",
   "execution_count": 6,
   "metadata": {},
   "outputs": [
    {
     "name": "stdout",
     "output_type": "stream",
     "text": [
      "The sum of new matrix is 1265.3895617887133\n"
     ]
    }
   ],
   "source": [
    "print(\"The sum of new matrix is\",c.sum())"
   ]
  },
  {
   "cell_type": "markdown",
   "metadata": {},
   "source": [
    "## Q.4 - Create a numpy array A of shape(10,1).Using the basic operations of the numpy array generate an array of shape(10,1) such that each element is the following function applied on each element of A. \n",
    "\n",
    "### f(x)=1 / (1 + exp(-x)) \n",
    "### Apply this function to each element of A and print the new array holding the value the function returns\n",
    "### Example:\n",
    "\n",
    "### a=[a1,a2,a3]   \n",
    "### n(new array to be printed )=[ f(a1), f(a2), f(a3)]"
   ]
  },
  {
   "cell_type": "code",
   "execution_count": 7,
   "metadata": {},
   "outputs": [
    {
     "name": "stdout",
     "output_type": "stream",
     "text": [
      "[[0.47229494]\n",
      " [0.66114693]\n",
      " [0.19238584]\n",
      " [0.27627449]\n",
      " [0.2793728 ]\n",
      " [0.86871762]\n",
      " [0.83717974]\n",
      " [0.97745315]\n",
      " [0.38044616]\n",
      " [0.21262288]]\n",
      "result is  [[0.61592679]\n",
      " [0.65951798]\n",
      " [0.54794866]\n",
      " [0.56863263]\n",
      " [0.56939245]\n",
      " [0.70447879]\n",
      " [0.6978709 ]\n",
      " [0.72660257]\n",
      " [0.59398071]\n",
      " [0.55295636]]\n"
     ]
    }
   ],
   "source": [
    "A = np.random.rand(10,1)\n",
    "print(A)\n",
    "def func(x):\n",
    "    return (1 / (1 + np.exp(-x)))\n",
    "result = np.apply_along_axis(func, 0, A)\n",
    "print (\"result is \",result)"
   ]
  },
  {
   "cell_type": "code",
   "execution_count": null,
   "metadata": {},
   "outputs": [],
   "source": []
  },
  {
   "cell_type": "code",
   "execution_count": null,
   "metadata": {},
   "outputs": [],
   "source": []
  }
 ],
 "metadata": {
  "kernelspec": {
   "display_name": "Python 3",
   "language": "python",
   "name": "python3"
  },
  "language_info": {
   "codemirror_mode": {
    "name": "ipython",
    "version": 3
   },
   "file_extension": ".py",
   "mimetype": "text/x-python",
   "name": "python",
   "nbconvert_exporter": "python",
   "pygments_lexer": "ipython3",
   "version": "3.6.5"
  }
 },
 "nbformat": 4,
 "nbformat_minor": 1
}
